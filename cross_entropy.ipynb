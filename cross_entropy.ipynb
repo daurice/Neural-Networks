{
 "cells": [
  {
   "cell_type": "code",
   "execution_count": 3,
   "metadata": {},
   "outputs": [],
   "source": [
    "import numpy as np\n",
    "# TODO: complete the function\n",
    "def cross_entropy(Y, P):\n",
    "    \"\"\"\n",
    "    This function takes as input two lists Y and P, and returns the float\n",
    "    corresponding to their cross-entropy.\n",
    "    \n",
    "      Parameters:\n",
    "    - Y (list or array): True labels (0 or 1)\n",
    "    - P (list or array): Predicted probabilities (between 0 and 1)\n",
    "    \n",
    "    Returns:\n",
    "    - float: Cross-entropy loss\n",
    "    \"\"\"\n",
    "    Y=np.array(Y)\n",
    "    P=np.array(P)\n",
    "    cross_entropy=-np.sum(Y*np.log(P)+(1-Y)*np.log(1-P))\n",
    "    return cross_entropy"
   ]
  }
 ],
 "metadata": {
  "kernelspec": {
   "display_name": "Python 3 (ipykernel)",
   "language": "python",
   "name": "python3"
  },
  "language_info": {
   "codemirror_mode": {
    "name": "ipython",
    "version": 3
   },
   "file_extension": ".py",
   "mimetype": "text/x-python",
   "name": "python",
   "nbconvert_exporter": "python",
   "pygments_lexer": "ipython3",
   "version": "3.10.13"
  }
 },
 "nbformat": 4,
 "nbformat_minor": 2
}
