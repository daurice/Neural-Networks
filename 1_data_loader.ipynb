{
 "cells": [
  {
   "cell_type": "code",
   "execution_count": 1,
   "metadata": {
    "id": "CMWMOaDg-ZBv"
   },
   "outputs": [],
   "source": [
    "from pathlib import Path\n",
    "\n",
    "text = Path('tiny-shakespeare.txt').read_text()"
   ]
  },
  {
   "cell_type": "code",
   "execution_count": 2,
   "metadata": {
    "colab": {
     "base_uri": "https://localhost:8080/",
     "height": 71
    },
    "id": "IwwOe-tJ-xcE",
    "outputId": "00300e0a-c41d-457d-e88a-e8a13004670b"
   },
   "outputs": [
    {
     "data": {
      "text/plain": [
       "\"First Citizen:\\nBefore we proceed any further, hear me speak.\\n\\nAll:\\nSpeak, speak.\\n\\nFirst Citizen:\\nYou are all resolved rather to die than to famish?\\n\\nAll:\\nResolved. resolved.\\n\\nFirst Citizen:\\nFirst, you know Caius Marcius is chief enemy to the people.\\n\\nAll:\\nWe know't, we know't.\\n\\nFirst Citizen:\\nLet us kill him, and we'll have corn at our own price.\\nIs't a verdict?\\n\\nAll:\\nNo more talking on't; let it be done: away, away!\\n\\nSecond Citizen:\\nOne word, good citizens.\\n\\nFirst Citizen:\\nWe are accounted poor citizens, the patricians good.\\nWhat authority surfeits on would relieve us: if they\\nwould yield us but the superfluity, while it were\\nwholesome, we might guess they relieved us humanely;\\nbut they think we are too dear: the leanness that\\nafflicts us, the object of our misery, is as an\\ninventory to particularise their abundance; our\\nsufferance is a gain to them Let us revenge this with\\nour pikes, ere we become rakes: for the gods know I\\nspeak this in hunger for bread, not in thirst for revenge.\\n\\n\""
      ]
     },
     "execution_count": 2,
     "metadata": {},
     "output_type": "execute_result"
    }
   ],
   "source": [
    "text[0:1000]"
   ]
  },
  {
   "cell_type": "code",
   "execution_count": 3,
   "metadata": {
    "id": "Ap_Ixr0M-0Yv"
   },
   "outputs": [],
   "source": [
    "import torch\n",
    "\n",
    "class CharTokenizer:\n",
    "  def __init__(self, vocabulary):\n",
    "    self.id_for_char = {chr: id for id, chr in enumerate(vocabulary)}\n",
    "    self.char_for_id = {id: chr for id, chr in enumerate(vocabulary)}\n",
    "\n",
    "  @staticmethod\n",
    "  def train_from_text(text):\n",
    "    vocabulary = set(text)\n",
    "    return CharTokenizer(vocabulary)\n",
    "\n",
    "  def encode(self, text):\n",
    "    ids = []\n",
    "    for chr in text:\n",
    "      ids.append(self.id_for_char[chr])\n",
    "    return torch.tensor(ids, dtype=torch.long)\n",
    "\n",
    "  def decode(self, ids):\n",
    "    chars = []\n",
    "    for id in ids.tolist():\n",
    "      chars.append(self.char_for_id[id])\n",
    "    return ''.join(chars)\n",
    "\n",
    "  def vocabulary_size(self):\n",
    "    return len(self.id_for_char)"
   ]
  },
  {
   "cell_type": "code",
   "execution_count": 4,
   "metadata": {
    "id": "T3q9Dj3l-2Ja"
   },
   "outputs": [],
   "source": [
    "tokenizer = CharTokenizer.train_from_text(text)"
   ]
  },
  {
   "cell_type": "code",
   "execution_count": 5,
   "metadata": {
    "colab": {
     "base_uri": "https://localhost:8080/"
    },
    "id": "Lb1zImZr-4mY",
    "outputId": "08cf0a3b-78fc-449f-ed5f-64aff70b3f68"
   },
   "outputs": [
    {
     "name": "stdout",
     "output_type": "stream",
     "text": [
      "tensor([15, 41, 44, 44, 20, 40, 21, 20,  8, 44, 14])\n",
      "Hello world\n"
     ]
    }
   ],
   "source": [
    "print(tokenizer.encode(\"Hello world\"))\n",
    "print(tokenizer.decode(tokenizer.encode(\"Hello world\")))"
   ]
  },
  {
   "cell_type": "code",
   "execution_count": 6,
   "metadata": {
    "colab": {
     "base_uri": "https://localhost:8080/"
    },
    "id": "MlTEiIqs-7Uz",
    "outputId": "bac57506-a7a0-49bf-f3b7-e129ccc516bf"
   },
   "outputs": [
    {
     "name": "stdout",
     "output_type": "stream",
     "text": [
      "Vocabulary size: 65\n"
     ]
    }
   ],
   "source": [
    "print(f\"Vocabulary size: {tokenizer.vocabulary_size()}\")"
   ]
  },
  {
   "cell_type": "code",
   "execution_count": 7,
   "metadata": {
    "id": "7Qal76ig-94U"
   },
   "outputs": [],
   "source": [
    "from torch.utils.data import Dataset\n",
    "\n",
    "class IndexesDataset(Dataset):\n",
    "    def __init__(self, data, block_size):\n",
    "        self.data = data\n",
    "        self.block_size = block_size\n",
    "\n",
    "    def __len__(self):\n",
    "        # Ensure all sequences generated are complete by reducing length\n",
    "        return len(self.data) - self.block_size\n",
    "\n",
    "    def __getitem__(self, pos):\n",
    "        assert pos < len(self.data) - self.block_size\n",
    "\n",
    "        x = self.data[pos:pos + self.block_size]\n",
    "        y = self.data[pos + 1:pos + 1 + self.block_size]\n",
    "        return x, y"
   ]
  },
  {
   "cell_type": "code",
   "execution_count": 8,
   "metadata": {
    "id": "oPPfQ5n1_BuV"
   },
   "outputs": [],
   "source": [
    "tokenized_text = tokenizer.encode(text)\n",
    "dataset = IndexesDataset(tokenized_text, 64)"
   ]
  },
  {
   "cell_type": "code",
   "execution_count": 9,
   "metadata": {
    "id": "pU5xPNPN_RSQ"
   },
   "outputs": [],
   "source": [
    "from torch.utils.data import DataLoader, RandomSampler\n",
    "\n",
    "sampler = RandomSampler(dataset, replacement=True)\n",
    "dataloader = DataLoader(dataset, batch_size=2, sampler=sampler)"
   ]
  },
  {
   "cell_type": "code",
   "execution_count": 10,
   "metadata": {
    "id": "cmoIkxKP_gBD"
   },
   "outputs": [],
   "source": [
    "x, y = next(iter(dataloader))"
   ]
  },
  {
   "cell_type": "code",
   "execution_count": 11,
   "metadata": {
    "colab": {
     "base_uri": "https://localhost:8080/"
    },
    "id": "oKvdaDFb_mxv",
    "outputId": "cf6cc11f-cddc-414b-cf92-5a6293b1d6c0"
   },
   "outputs": [
    {
     "data": {
      "text/plain": [
       "tensor([[20, 40, 48, 44, 31,  7, 14, 59, 20, 40, 31, 38, 40, 12, 59, 46, 38, 41,\n",
       "         44, 49, 32, 18, 18,  2,  6, 37, 55, 40, 62, 25, 50, 48, 55, 50, 30, 25,\n",
       "         51, 19, 18, 18, 10,  6, 48, 25, 51, 19, 18,  9, 60, 31, 59, 23, 12,  4,\n",
       "         40, 46, 54, 40, 44, 20,  8, 14, 32, 40],\n",
       "        [38, 12, 41,  9, 44, 44, 40, 53, 41, 40, 31, 38, 12, 31, 46, 41, 14, 32,\n",
       "         18, 18, 55, 52, 48, 39, 10,  6, 52, 19, 18, 25, 40, 21, 59, 44, 44, 40,\n",
       "         61, 20, 40, 14, 31,  8,  5, 44, 54, 40, 23, 20, 40, 21, 20,  8,  5, 40,\n",
       "         21, 59, 23, 12, 40, 12, 41,  8, 32, 18]])"
      ]
     },
     "execution_count": 11,
     "metadata": {},
     "output_type": "execute_result"
    }
   ],
   "source": [
    "x"
   ]
  },
  {
   "cell_type": "code",
   "execution_count": 12,
   "metadata": {
    "colab": {
     "base_uri": "https://localhost:8080/",
     "height": 35
    },
    "id": "mRYTdaFs_nrH",
    "outputId": "6e54e6ed-5698-428a-f1a6-d60f7ec6b2ad"
   },
   "outputs": [
    {
     "data": {
      "text/plain": [
       "\"o Claudio as himself.\\n\\nDUKE VINCENTIO:\\n\\nLUCIO:\\n'Faith, my lord. \""
      ]
     },
     "execution_count": 12,
     "metadata": {},
     "output_type": "execute_result"
    }
   ],
   "source": [
    "tokenizer.decode(x[0])"
   ]
  },
  {
   "cell_type": "code",
   "execution_count": 13,
   "metadata": {
    "colab": {
     "base_uri": "https://localhost:8080/",
     "height": 35
    },
    "id": "7z-wrmxL_ucH",
    "outputId": "8cdf2e4d-0295-432a-e212-738ceaffb4e7"
   },
   "outputs": [
    {
     "data": {
      "text/plain": [
       "\" Claudio as himself.\\n\\nDUKE VINCENTIO:\\n\\nLUCIO:\\n'Faith, my lord. I\""
      ]
     },
     "execution_count": 13,
     "metadata": {},
     "output_type": "execute_result"
    }
   ],
   "source": [
    "tokenizer.decode(y[0])"
   ]
  },
  {
   "cell_type": "code",
   "execution_count": null,
   "metadata": {
    "id": "ZyqnpXW7_w__"
   },
   "outputs": [],
   "source": []
  }
 ],
 "metadata": {
  "colab": {
   "provenance": []
  },
  "kernelspec": {
   "display_name": "Python 3 (ipykernel)",
   "language": "python",
   "name": "python3"
  },
  "language_info": {
   "codemirror_mode": {
    "name": "ipython",
    "version": 3
   },
   "file_extension": ".py",
   "mimetype": "text/x-python",
   "name": "python",
   "nbconvert_exporter": "python",
   "pygments_lexer": "ipython3",
   "version": "3.10.11"
  }
 },
 "nbformat": 4,
 "nbformat_minor": 1
}
